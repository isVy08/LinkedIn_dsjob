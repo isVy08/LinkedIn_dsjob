{
  "nbformat": 4,
  "nbformat_minor": 0,
  "metadata": {
    "colab": {
      "name": "LinkedIn.ipynb",
      "provenance": [],
      "collapsed_sections": [],
      "machine_shape": "hm",
      "authorship_tag": "ABX9TyNlnj1muHn6mqTWlT6WMjC3",
      "include_colab_link": true
    },
    "kernelspec": {
      "name": "python3",
      "display_name": "Python 3"
    },
    "accelerator": "GPU"
  },
  "cells": [
    {
      "cell_type": "markdown",
      "metadata": {
        "id": "view-in-github",
        "colab_type": "text"
      },
      "source": [
        "<a href=\"https://colab.research.google.com/github/isVy08/LinkedIn_dsjob/blob/master/LinkedIn.ipynb\" target=\"_parent\"><img src=\"https://colab.research.google.com/assets/colab-badge.svg\" alt=\"Open In Colab\"/></a>"
      ]
    },
    {
      "cell_type": "markdown",
      "metadata": {
        "id": "HpSFNaLm3HW3",
        "colab_type": "text"
      },
      "source": [
        "# Local Setup"
      ]
    },
    {
      "cell_type": "code",
      "metadata": {
        "id": "YmujCaYfuPTc",
        "colab_type": "code",
        "colab": {
          "base_uri": "https://localhost:8080/",
          "height": 122
        },
        "outputId": "30f06b92-b9d4-4783-ec4a-a275781cb229"
      },
      "source": [
        "# Mount Google Drive\n",
        "from google.colab import drive # import drive from google colab\n",
        "ROOT = '/content/drive'\n",
        "drive.mount(ROOT, force_remount=True) "
      ],
      "execution_count": 1,
      "outputs": [
        {
          "output_type": "stream",
          "text": [
            "Go to this URL in a browser: https://accounts.google.com/o/oauth2/auth?client_id=947318989803-6bn6qk8qdgf4n4g3pfee6491hc0brc4i.apps.googleusercontent.com&redirect_uri=urn%3aietf%3awg%3aoauth%3a2.0%3aoob&response_type=code&scope=email%20https%3a%2f%2fwww.googleapis.com%2fauth%2fdocs.test%20https%3a%2f%2fwww.googleapis.com%2fauth%2fdrive%20https%3a%2f%2fwww.googleapis.com%2fauth%2fdrive.photos.readonly%20https%3a%2f%2fwww.googleapis.com%2fauth%2fpeopleapi.readonly\n",
            "\n",
            "Enter your authorization code:\n",
            "··········\n",
            "Mounted at /content/drive\n"
          ],
          "name": "stdout"
        }
      ]
    },
    {
      "cell_type": "code",
      "metadata": {
        "id": "kOJ1NZpCx0mh",
        "colab_type": "code",
        "colab": {
          "base_uri": "https://localhost:8080/",
          "height": 37
        },
        "outputId": "c6255883-6afd-4a35-a76c-841ab22f7954"
      },
      "source": [
        "%pwd # current directory"
      ],
      "execution_count": 2,
      "outputs": [
        {
          "output_type": "execute_result",
          "data": {
            "application/vnd.google.colaboratory.intrinsic": {
              "type": "string"
            },
            "text/plain": [
              "'/content'"
            ]
          },
          "metadata": {
            "tags": []
          },
          "execution_count": 2
        }
      ]
    },
    {
      "cell_type": "code",
      "metadata": {
        "id": "x9_dvQoP6gVR",
        "colab_type": "code",
        "colab": {
          "base_uri": "https://localhost:8080/",
          "height": 34
        },
        "outputId": "a6bbf993-2f26-437e-a7a1-7007b41a2937"
      },
      "source": [
        "%ls"
      ],
      "execution_count": 3,
      "outputs": [
        {
          "output_type": "stream",
          "text": [
            "\u001b[0m\u001b[01;34mdrive\u001b[0m/  \u001b[01;34msample_data\u001b[0m/\n"
          ],
          "name": "stdout"
        }
      ]
    },
    {
      "cell_type": "code",
      "metadata": {
        "id": "feLuchq_1Sr4",
        "colab_type": "code",
        "colab": {
          "base_uri": "https://localhost:8080/",
          "height": 34
        },
        "outputId": "40f4e759-c42f-40b2-c994-03f45d501d51"
      },
      "source": [
        "# change directory to Github repo\n",
        "%cd '/content/drive/My Drive/Colab Notebooks/LinkedIn_dsjob' "
      ],
      "execution_count": 4,
      "outputs": [
        {
          "output_type": "stream",
          "text": [
            "/content/drive/My Drive/Colab Notebooks/LinkedIn_dsjob\n"
          ],
          "name": "stdout"
        }
      ]
    },
    {
      "cell_type": "markdown",
      "metadata": {
        "id": "ygWqSqb34P1V",
        "colab_type": "text"
      },
      "source": [
        "\n",
        "# Start working"
      ]
    },
    {
      "cell_type": "code",
      "metadata": {
        "id": "kgn4gMgd3fD-",
        "colab_type": "code",
        "colab": {
          "base_uri": "https://localhost:8080/",
          "height": 136
        },
        "outputId": "709776ee-6d15-4b81-a6e3-d55db5b48b07"
      },
      "source": [
        "from dependency import *\n",
        "from cleantext import *\n",
        "pd.set_option('display.max_colwidth',1000)"
      ],
      "execution_count": 5,
      "outputs": [
        {
          "output_type": "stream",
          "text": [
            "[nltk_data] Downloading package averaged_perceptron_tagger to\n",
            "[nltk_data]     /root/nltk_data...\n",
            "[nltk_data]   Unzipping taggers/averaged_perceptron_tagger.zip.\n",
            "[nltk_data] Downloading package stopwords to /root/nltk_data...\n",
            "[nltk_data]   Unzipping corpora/stopwords.zip.\n",
            "[nltk_data] Downloading package wordnet to /root/nltk_data...\n",
            "[nltk_data]   Unzipping corpora/wordnet.zip.\n"
          ],
          "name": "stdout"
        }
      ]
    },
    {
      "cell_type": "code",
      "metadata": {
        "id": "LBPfp6xNYLEE",
        "colab_type": "code",
        "colab": {}
      },
      "source": [
        "data_path = ROOT+'/My Drive/Colab Notebooks/label_data.csv'"
      ],
      "execution_count": 12,
      "outputs": []
    },
    {
      "cell_type": "code",
      "metadata": {
        "id": "Nsw5J6N07KvJ",
        "colab_type": "code",
        "colab": {}
      },
      "source": [
        "data = pd.read_csv(data_path)"
      ],
      "execution_count": 13,
      "outputs": []
    },
    {
      "cell_type": "code",
      "metadata": {
        "id": "ZTqHPIPW8FBp",
        "colab_type": "code",
        "colab": {
          "base_uri": "https://localhost:8080/",
          "height": 221
        },
        "outputId": "776ff2c9-346f-483d-f819-a29728da7385"
      },
      "source": [
        "data.info()"
      ],
      "execution_count": 14,
      "outputs": [
        {
          "output_type": "stream",
          "text": [
            "<class 'pandas.core.frame.DataFrame'>\n",
            "RangeIndex: 45769 entries, 0 to 45768\n",
            "Data columns (total 5 columns):\n",
            " #   Column             Non-Null Count  Dtype \n",
            "---  ------             --------------  ----- \n",
            " 0   id                 45769 non-null  int64 \n",
            " 1   clean_description  45769 non-null  object\n",
            " 2   description_v2     45769 non-null  object\n",
            " 3   label              45769 non-null  int64 \n",
            " 4   text               45386 non-null  object\n",
            "dtypes: int64(2), object(3)\n",
            "memory usage: 1.7+ MB\n"
          ],
          "name": "stdout"
        }
      ]
    },
    {
      "cell_type": "markdown",
      "metadata": {
        "id": "hUT5UM9oDJcQ",
        "colab_type": "text"
      },
      "source": [
        "Data preprocessing"
      ]
    },
    {
      "cell_type": "code",
      "metadata": {
        "id": "vJc3k8foCBwq",
        "colab_type": "code",
        "colab": {}
      },
      "source": [
        "# create subset\n",
        "df = data.loc[:,['text','label','id']]"
      ],
      "execution_count": 15,
      "outputs": []
    },
    {
      "cell_type": "code",
      "metadata": {
        "id": "5tQX6mBfCJw2",
        "colab_type": "code",
        "colab": {
          "base_uri": "https://localhost:8080/",
          "height": 102
        },
        "outputId": "1ceea6f9-2348-4181-896d-48dc9f25f164"
      },
      "source": [
        "df.label.value_counts()"
      ],
      "execution_count": 16,
      "outputs": [
        {
          "output_type": "execute_result",
          "data": {
            "text/plain": [
              "3    23477\n",
              "1    12705\n",
              "2     4886\n",
              "0     4701\n",
              "Name: label, dtype: int64"
            ]
          },
          "metadata": {
            "tags": []
          },
          "execution_count": 16
        }
      ]
    },
    {
      "cell_type": "code",
      "metadata": {
        "id": "FPyW7PGpAg1F",
        "colab_type": "code",
        "colab": {
          "base_uri": "https://localhost:8080/",
          "height": 139
        },
        "outputId": "64b36796-2b72-4181-8c84-07835a4be26d"
      },
      "source": [
        "df.loc[df['label']==2,'text'].tail(5)"
      ],
      "execution_count": 17,
      "outputs": [
        {
          "output_type": "execute_result",
          "data": {
            "text/plain": [
              "45730                                                                                                                                                                                                                                                                                                                                                                                                                                                                                                                                                                                                                                                                                                                                                                                                                                                                                                                  what's on offer 30-40k salary flexible working schedule (option for 1 day at home) 25 days holiday wellness allowance\n",
              "45751                                                                                                                                                      you should apply if what we're doing sounds exciting, and you can't wait to explore our data you're impact driven and eager to have a real positive impact on the company, product, users and very importantly your colleagues as well you have a self-starter mindset; you proactively identify issues and opportunities and tackle them without being told to do so you're a team player whom your colleagues can rely on you have a solid grounding in sql and python, and are comfortable using them every day you're happiest exploring data, designing and evaluating machine learning models and seeing these projects all the way through to production you're excited about the potential of machine learning and can communicate those ideas to colleagues who are not familiar with the domain you're adaptable, curious and enjoy learning new technologies and ideas\n",
              "45762                                                                                                                                                                                                                                                                                                                                                                                                                                                                                                                                                                                                                                                                                                                                                                                                                                                                                                                                    benefits training to fine tune analytics skills private healthcare competitive pension free parking\n",
              "45763    why you?  review and interpret leases and other related documents.  ensure the accurate transfer of the lease data into the management database, in a timely manner and within the service level agreement (measured by kpi).  review data input from other team members to guarantee the integrity of the dataset.  maintain clients, properties and units records in the management database and assist in the smooth transition in and out of new instructions.  act as the main point of contact for other operation teams within the pam department.  take full ownership of the data management process.  ensure the continuous maintenance of the management database; participate in meeting with management team on regular basis to review the accuracy of the dataset and coordinate corrective actions.  assist in monitoring landlords’ and tenants’ compliance with covenants; provide support in reporting and control of critical event management.  administration – background in legal / insurance or compliance\n",
              "45768                                                                                                                                                                                                                                                                                         benefits be part of a growing technology startup and help shape the future of energy collaborative, flexible, and friendly environment competitive salary, share options, and bonus 33 days holiday a year (including bank holidays) and the option to buy up to 5 more 12 weeks of full pay for maternity, paternity or adoption leave £1000 training budget + 5 days training days per year healthcare, life insurance, and a pension plan with employer contributions cycle to work scheme; activities to improve your mental & physical well being, including office yoga and meditation; monthly team socials one month sabbatical leave after your first year tea, coffee, fruit and snacks throughout the day free breakfast on mondays\n",
              "Name: text, dtype: object"
            ]
          },
          "metadata": {
            "tags": []
          },
          "execution_count": 17
        }
      ]
    },
    {
      "cell_type": "code",
      "metadata": {
        "id": "M1KsrXpb7Pte",
        "colab_type": "code",
        "colab": {}
      },
      "source": [
        "# group text\n",
        "df.dropna(inplace=True)\n",
        "df['grouptext'] = df.groupby(['label','id']).transform(lambda x: ' '.join(x))\n",
        "df.drop_duplicates(subset='grouptext',inplace=True)"
      ],
      "execution_count": 18,
      "outputs": []
    },
    {
      "cell_type": "code",
      "metadata": {
        "id": "fZLEnG0x_JvW",
        "colab_type": "code",
        "colab": {}
      },
      "source": [
        "# clean text\n",
        "df['grouptext'] = df['grouptext'].map(lambda x: quick_clean_text(x))\n",
        "df.reset_index(drop=True,inplace=True)"
      ],
      "execution_count": 19,
      "outputs": []
    },
    {
      "cell_type": "code",
      "metadata": {
        "id": "KyuKMRx1MajP",
        "colab_type": "code",
        "colab": {
          "base_uri": "https://localhost:8080/",
          "height": 935
        },
        "outputId": "f2493f09-40e1-4981-f04f-586489c4d36d"
      },
      "source": [
        "df.head()"
      ],
      "execution_count": 20,
      "outputs": [
        {
          "output_type": "execute_result",
          "data": {
            "text/html": [
              "<div>\n",
              "<style scoped>\n",
              "    .dataframe tbody tr th:only-of-type {\n",
              "        vertical-align: middle;\n",
              "    }\n",
              "\n",
              "    .dataframe tbody tr th {\n",
              "        vertical-align: top;\n",
              "    }\n",
              "\n",
              "    .dataframe thead th {\n",
              "        text-align: right;\n",
              "    }\n",
              "</style>\n",
              "<table border=\"1\" class=\"dataframe\">\n",
              "  <thead>\n",
              "    <tr style=\"text-align: right;\">\n",
              "      <th></th>\n",
              "      <th>text</th>\n",
              "      <th>label</th>\n",
              "      <th>id</th>\n",
              "      <th>grouptext</th>\n",
              "    </tr>\n",
              "  </thead>\n",
              "  <tbody>\n",
              "    <tr>\n",
              "      <th>0</th>\n",
              "      <td>lead data curation functions for geoscience databases including data ingestion, data cleansing and optimisation, data extraction, and data integration.</td>\n",
              "      <td>3</td>\n",
              "      <td>0</td>\n",
              "      <td>lead data curation function geoscience database including data ingestion data cleansing optimisation data extraction data integration lead data analysis data design modelling metadata management data migration data database related activity lead application predictive analytics machine learning visualisation activity support improved business decision making within gsq gsq customer establish lead machine learning project activity within gsq deliver insight quality integrity gsq custodial data actively build analytics machine learning capability key gsq staff build implement data governance process policy ensure gsq custodial data highly accessible well managed provide advice guidance gsq structure optimise data resource support machine learning activity provide high level technical advice assistance internal external stakeholder required directed support geoscience information team participation appropriate conference training workshop seminar well internal external meeting present...</td>\n",
              "    </tr>\n",
              "    <tr>\n",
              "      <th>1</th>\n",
              "      <td>responsibilities  work with stakeholders to take a vague problem statement, refine the scope of the analysis, and use the results to drive informed decisions  write reproducible data analysis over petabytes of data using cutting-edge open source technologies  understand and apply reliability concepts in your data analysis  summarize and clearly communicate data analysis assumptions and results  build data pipelines to promote your ad-hoc data analyses into production dashboards that engineers can rely on  design and implement metrics, applications and tools that will enable engineers by allowing them to self-serve their data insights  work with engineers to drive usage of your applications and tools  write clean and tested code that can be maintained and extended by other software engineers  operate and support your production applications  keep up to date on relevant technologies and frameworks, and propose new ones that the team could leverage  identify trends, invent new ways of...</td>\n",
              "      <td>0</td>\n",
              "      <td>1</td>\n",
              "      <td>responsibility work stakeholder take vague problem statement refine scope analysis use result drive informed decision write reproducible data analysis petabyte data using cuttingedge open source technology understand apply reliability concept data analysis summarize clearly communicate data analysis assumption result build data pipeline promote adhoc data analysis production dashboard engineer rely design implement metric application tool enable engineer allowing selfserve data insight work engineer drive usage application tool write clean tested code maintained extended software engineer operate support production application keep date relevant technology framework propose new one team could leverage identify trend invent new way looking data get creative order drive improvement existing future product</td>\n",
              "    </tr>\n",
              "    <tr>\n",
              "      <th>2</th>\n",
              "      <td>requirements  degree in statistics, econometrics, computer science, physics, or a related quantitative field  strong proficiency in python, sql  deep statistical skills such as utilized in a/b testing, analyzing observational data, and modeling  experience building data visualizations  experience writing software in a professional environment  strong verbal and written communication skills  strong problem-solving skills to help refine problem statements and figure out how to solve them with the available data  smart but humble, with a bias for action  experience with data science tools such as pandas, numpy, r, matlab, octave preferred  experience building data pipelines preferred  experience building web applications preferred  experience building machine learning models in a professional environment preferred  experience with continuous integration and continuous development preferred  experience in devops, i.e. linux, ansible, docker, kubernetes preferred  understanding of relia...</td>\n",
              "      <td>1</td>\n",
              "      <td>1</td>\n",
              "      <td>requirement degree statistic econometrics computer science physic related quantitative field strong proficiency python sql deep statistical skill utilized ab testing analyzing observational data modeling experience building data visualization experience writing software professional environment strong verbal written communication skill strong problemsolving skill help refine problem statement figure solve available data smart humble bias action experience data science tool panda numpy r matlab octave preferred experience building data pipeline preferred experience building web application preferred experience building machine learning model professional environment preferred experience continuous integration continuous development preferred experience devops ie linux ansible docker kubernetes preferred understanding reliability concept weibull lognormal exponential etc life data survival analysis reliability modeling preferred understanding distributed computing ie hdfs spark prest...</td>\n",
              "    </tr>\n",
              "    <tr>\n",
              "      <th>3</th>\n",
              "      <td>applying data analytic skills to support exciting government initiatives join entrepreneurial group during an exciting transformation period work in the heart of adelaide cbd</td>\n",
              "      <td>1</td>\n",
              "      <td>2</td>\n",
              "      <td>applying data analytic skill support exciting government initiative join entrepreneurial group exciting transformation period work heart adelaide cbd</td>\n",
              "    </tr>\n",
              "    <tr>\n",
              "      <th>4</th>\n",
              "      <td>special conditions  incumbent will be required to participate in the department's performance management program   incumbent may be assigned to another position at this remuneration level or equivalent.   working within a confidential, commercially orientated and at times, politically sensitive environment   may be required to work within other areas of the department of the premier and cabinet   some work outside normal hours and interstate travel involving overnight absences may be required   will be required, at a minimum, to obtain (at dpc cost) and hold dhs vulnerable persons and working with children check employment clearances, and undergo a sapol criminal associations check   will be required to obtain (at dpc cost) and maintain an australian government department of defence protected (baseline) or secret level clearance (nv1) depending on your role</td>\n",
              "      <td>0</td>\n",
              "      <td>2</td>\n",
              "      <td>special condition incumbent required participate department performance management program incumbent may assigned another position remuneration level equivalent working within confidential commercially orientated time politically sensitive environment may required work within area department premier cabinet work outside normal hour interstate travel involving overnight absence may required required minimum obtain dpc cost hold dhs vulnerable person working child check employment clearance undergo sapol criminal association check required obtain dpc cost maintain australian government department defence protected baseline secret level clearance nv depending role</td>\n",
              "    </tr>\n",
              "  </tbody>\n",
              "</table>\n",
              "</div>"
            ],
            "text/plain": [
              "                                                                                                                                                                                                                                                                                                                                                                                                                                                                                                                                                                                                                                                                                                                                                                                                                                                                                                                                                                                                                                      text  \\\n",
              "0                                                                                                                                                                                                                                                                                                                                                                                                                                                                                                                                                                                                                                                                                                                                                                                                                                                                                  lead data curation functions for geoscience databases including data ingestion, data cleansing and optimisation, data extraction, and data integration.   \n",
              "1  responsibilities  work with stakeholders to take a vague problem statement, refine the scope of the analysis, and use the results to drive informed decisions  write reproducible data analysis over petabytes of data using cutting-edge open source technologies  understand and apply reliability concepts in your data analysis  summarize and clearly communicate data analysis assumptions and results  build data pipelines to promote your ad-hoc data analyses into production dashboards that engineers can rely on  design and implement metrics, applications and tools that will enable engineers by allowing them to self-serve their data insights  work with engineers to drive usage of your applications and tools  write clean and tested code that can be maintained and extended by other software engineers  operate and support your production applications  keep up to date on relevant technologies and frameworks, and propose new ones that the team could leverage  identify trends, invent new ways of...   \n",
              "2  requirements  degree in statistics, econometrics, computer science, physics, or a related quantitative field  strong proficiency in python, sql  deep statistical skills such as utilized in a/b testing, analyzing observational data, and modeling  experience building data visualizations  experience writing software in a professional environment  strong verbal and written communication skills  strong problem-solving skills to help refine problem statements and figure out how to solve them with the available data  smart but humble, with a bias for action  experience with data science tools such as pandas, numpy, r, matlab, octave preferred  experience building data pipelines preferred  experience building web applications preferred  experience building machine learning models in a professional environment preferred  experience with continuous integration and continuous development preferred  experience in devops, i.e. linux, ansible, docker, kubernetes preferred  understanding of relia...   \n",
              "3                                                                                                                                                                                                                                                                                                                                                                                                                                                                                                                                                                                                                                                                                                                                                                                                                                                           applying data analytic skills to support exciting government initiatives join entrepreneurial group during an exciting transformation period work in the heart of adelaide cbd   \n",
              "4                                                                                                                                   special conditions  incumbent will be required to participate in the department's performance management program   incumbent may be assigned to another position at this remuneration level or equivalent.   working within a confidential, commercially orientated and at times, politically sensitive environment   may be required to work within other areas of the department of the premier and cabinet   some work outside normal hours and interstate travel involving overnight absences may be required   will be required, at a minimum, to obtain (at dpc cost) and hold dhs vulnerable persons and working with children check employment clearances, and undergo a sapol criminal associations check   will be required to obtain (at dpc cost) and maintain an australian government department of defence protected (baseline) or secret level clearance (nv1) depending on your role    \n",
              "\n",
              "   label  id  \\\n",
              "0      3   0   \n",
              "1      0   1   \n",
              "2      1   1   \n",
              "3      1   2   \n",
              "4      0   2   \n",
              "\n",
              "                                                                                                                                                                                                                                                                                                                                                                                                                                                                                                                                                                                                                                                                                                                                                                                                                                                                                                                                                                                                                                 grouptext  \n",
              "0  lead data curation function geoscience database including data ingestion data cleansing optimisation data extraction data integration lead data analysis data design modelling metadata management data migration data database related activity lead application predictive analytics machine learning visualisation activity support improved business decision making within gsq gsq customer establish lead machine learning project activity within gsq deliver insight quality integrity gsq custodial data actively build analytics machine learning capability key gsq staff build implement data governance process policy ensure gsq custodial data highly accessible well managed provide advice guidance gsq structure optimise data resource support machine learning activity provide high level technical advice assistance internal external stakeholder required directed support geoscience information team participation appropriate conference training workshop seminar well internal external meeting present...  \n",
              "1                                                                                                                                                                                           responsibility work stakeholder take vague problem statement refine scope analysis use result drive informed decision write reproducible data analysis petabyte data using cuttingedge open source technology understand apply reliability concept data analysis summarize clearly communicate data analysis assumption result build data pipeline promote adhoc data analysis production dashboard engineer rely design implement metric application tool enable engineer allowing selfserve data insight work engineer drive usage application tool write clean tested code maintained extended software engineer operate support production application keep date relevant technology framework propose new one team could leverage identify trend invent new way looking data get creative order drive improvement existing future product  \n",
              "2  requirement degree statistic econometrics computer science physic related quantitative field strong proficiency python sql deep statistical skill utilized ab testing analyzing observational data modeling experience building data visualization experience writing software professional environment strong verbal written communication skill strong problemsolving skill help refine problem statement figure solve available data smart humble bias action experience data science tool panda numpy r matlab octave preferred experience building data pipeline preferred experience building web application preferred experience building machine learning model professional environment preferred experience continuous integration continuous development preferred experience devops ie linux ansible docker kubernetes preferred understanding reliability concept weibull lognormal exponential etc life data survival analysis reliability modeling preferred understanding distributed computing ie hdfs spark prest...  \n",
              "3                                                                                                                                                                                                                                                                                                                                                                                                                                                                                                                                                                                                                                                                                                                                                                                                                                                                                    applying data analytic skill support exciting government initiative join entrepreneurial group exciting transformation period work heart adelaide cbd  \n",
              "4                                                                                                                                                                                                                                                                                                                                            special condition incumbent required participate department performance management program incumbent may assigned another position remuneration level equivalent working within confidential commercially orientated time politically sensitive environment may required work within area department premier cabinet work outside normal hour interstate travel involving overnight absence may required required minimum obtain dpc cost hold dhs vulnerable person working child check employment clearance undergo sapol criminal association check required obtain dpc cost maintain australian government department defence protected baseline secret level clearance nv depending role  "
            ]
          },
          "metadata": {
            "tags": []
          },
          "execution_count": 20
        }
      ]
    },
    {
      "cell_type": "markdown",
      "metadata": {
        "id": "aZbxH5S0DPEM",
        "colab_type": "text"
      },
      "source": [
        "Data Preparation"
      ]
    },
    {
      "cell_type": "code",
      "metadata": {
        "id": "Z1jdHv3KUgbz",
        "colab_type": "code",
        "colab": {}
      },
      "source": [
        "from sklearn.linear_model import LogisticRegression\n",
        "from sklearn.feature_extraction.text import CountVectorizer, TfidfVectorizer\n",
        "from sklearn import preprocessing\n",
        "from sklearn.metrics import plot_confusion_matrix"
      ],
      "execution_count": 35,
      "outputs": []
    },
    {
      "cell_type": "code",
      "metadata": {
        "id": "O8_nRGUh5IL2",
        "colab_type": "code",
        "colab": {}
      },
      "source": [
        "def vectorize(input_data):\n",
        "    vectorizer = TfidfVectorizer(min_df=500,ngram_range=(1,2))\n",
        "    X = vectorizer.fit_transform(input_data)\n",
        "    X = X.toarray()\n",
        "    return X"
      ],
      "execution_count": 21,
      "outputs": []
    },
    {
      "cell_type": "code",
      "metadata": {
        "id": "aUaF34ihKEN5",
        "colab_type": "code",
        "colab": {}
      },
      "source": [
        "def vectorize(input_data):\n",
        "    vectorizer = CountVectorizer()\n",
        "    X = vectorizer.fit_transform(input_data)\n",
        "    X = X.toarray()\n",
        "    return X"
      ],
      "execution_count": null,
      "outputs": []
    },
    {
      "cell_type": "code",
      "metadata": {
        "id": "FXofplVv5CxZ",
        "colab_type": "code",
        "colab": {}
      },
      "source": [
        "# vectorize\n",
        "X = vectorize(df['grouptext'])    \n",
        "# generate train data\n",
        "train = df[df.label < 3][['grouptext','label']]"
      ],
      "execution_count": 24,
      "outputs": []
    },
    {
      "cell_type": "code",
      "metadata": {
        "id": "ZrOx0QbuLcqh",
        "colab_type": "code",
        "colab": {
          "base_uri": "https://localhost:8080/",
          "height": 102
        },
        "outputId": "dd2198a5-d9eb-48b6-ab5b-7b9c99c61900"
      },
      "source": [
        "df.label.value_counts()"
      ],
      "execution_count": 25,
      "outputs": [
        {
          "output_type": "execute_result",
          "data": {
            "text/plain": [
              "1    6532\n",
              "0    3675\n",
              "2    2668\n",
              "3    1600\n",
              "Name: label, dtype: int64"
            ]
          },
          "metadata": {
            "tags": []
          },
          "execution_count": 25
        }
      ]
    },
    {
      "cell_type": "code",
      "metadata": {
        "id": "lBSXp_EcPVl0",
        "colab_type": "code",
        "colab": {}
      },
      "source": [
        "# confusion matrix \n",
        "def plotcm(model,X_test,y_test,class_names):\n",
        "  titles_options = [(\"Confusion matrix, without normalization\", None),\n",
        "                    (\"Normalized confusion matrix\", 'true')]\n",
        "  for title, normalize in titles_options:\n",
        "      disp = plot_confusion_matrix(model, X_test, y_test,\n",
        "                                  display_labels=class_names,\n",
        "                                  cmap=plt.cm.Blues,\n",
        "                                  normalize=normalize)\n",
        "      disp.ax_.set_title(title)\n",
        "\n",
        "      print(title)\n",
        "      print(disp.confusion_matrix)\n",
        "\n",
        "  plt.show()"
      ],
      "execution_count": 30,
      "outputs": []
    },
    {
      "cell_type": "code",
      "metadata": {
        "id": "Uo6EjCiE7qZV",
        "colab_type": "code",
        "colab": {
          "base_uri": "https://localhost:8080/",
          "height": 726
        },
        "outputId": "e63b091f-e16e-470c-b629-4357426f3bee"
      },
      "source": [
        "# train model\n",
        "def nb():\n",
        "    global train\n",
        "    train_input = X[train.index]\n",
        "    X_train, X_test, y_train, y_test = train_test_split(train_input, train.label, test_size=0.3, random_state=18,stratify=train.label)\n",
        "    model = MultinomialNB().fit(X_train,y_train)\n",
        "    y_pred = model.predict(X_test)\n",
        "    plotcm(model,X_test,y_test,['Responsibility','Requirement','Others'])\n",
        "    accuracy = accuracy_score(y_test, y_pred)\n",
        "    return model, accuracy \n",
        "\n",
        "nb_model, nb_acc = nb()\n",
        "print(nb_acc)"
      ],
      "execution_count": 31,
      "outputs": [
        {
          "output_type": "stream",
          "text": [
            "Confusion matrix, without normalization\n",
            "[[ 947   97   59]\n",
            " [  89 1822   49]\n",
            " [ 162  128  510]]\n",
            "Normalized confusion matrix\n",
            "[[0.85856754 0.08794198 0.05349048]\n",
            " [0.04540816 0.92959184 0.025     ]\n",
            " [0.2025     0.16       0.6375    ]]\n"
          ],
          "name": "stdout"
        },
        {
          "output_type": "display_data",
          "data": {
            "image/png": "[encoded data removed]",
            "text/plain": [
              "<Figure size 432x288 with 2 Axes>"
            ]
          },
          "metadata": {
            "tags": [],
            "needs_background": "light"
          }
        },
        {
          "output_type": "display_data",
          "data": {
            "image/png": "[encoded data removed]",
            "text/plain": [
              "<Figure size 432x288 with 2 Axes>"
            ]
          },
          "metadata": {
            "tags": [],
            "needs_background": "light"
          }
        },
        {
          "output_type": "stream",
          "text": [
            "0.8488221589438261\n"
          ],
          "name": "stdout"
        }
      ]
    },
    {
      "cell_type": "code",
      "metadata": {
        "id": "lXQtHaQTMtFF",
        "colab_type": "code",
        "colab": {
          "base_uri": "https://localhost:8080/",
          "height": 726
        },
        "outputId": "85a3b436-7087-4495-e0b0-f8bca8cdedcd"
      },
      "source": [
        "def lg():\n",
        "    global train\n",
        "    train_input = preprocessing.scale(X[train.index])\n",
        "    X_train, X_test, y_train, y_test = train_test_split(train_input, train.label, test_size=0.3, random_state=18,stratify=train.label)\n",
        "    model = LogisticRegression(random_state=18,max_iter=100,solver='newton-cg').fit(X_train,y_train)\n",
        "    y_pred = model.predict(X_test)\n",
        "    plotcm(model,X_test,y_test,['Responsibility','Requirement','Others'])\n",
        "    accuracy = accuracy_score(y_test, y_pred)\n",
        "    return model, accuracy \n",
        "\n",
        "lg_model, lg_acc = lg()\n",
        "print(lg_acc)"
      ],
      "execution_count": 34,
      "outputs": [
        {
          "output_type": "stream",
          "text": [
            "Confusion matrix, without normalization\n",
            "[[ 940   66   97]\n",
            " [  71 1849   40]\n",
            " [  94   51  655]]\n",
            "Normalized confusion matrix\n",
            "[[0.85222121 0.05983681 0.08794198]\n",
            " [0.03622449 0.94336735 0.02040816]\n",
            " [0.1175     0.06375    0.81875   ]]\n"
          ],
          "name": "stdout"
        },
        {
          "output_type": "display_data",
          "data": {
            "image/png": "[encoded data removed]",
            "text/plain": [
              "<Figure size 432x288 with 2 Axes>"
            ]
          },
          "metadata": {
            "tags": [],
            "needs_background": "light"
          }
        },
        {
          "output_type": "display_data",
          "data": {
            "image/png": "[encoded data removed]",
            "text/plain": [
              "<Figure size 432x288 with 2 Axes>"
            ]
          },
          "metadata": {
            "tags": [],
            "needs_background": "light"
          }
        },
        {
          "output_type": "stream",
          "text": [
            "0.891535076365519\n"
          ],
          "name": "stdout"
        }
      ]
    },
    {
      "cell_type": "code",
      "metadata": {
        "id": "b2PQ0z2I7htY",
        "colab_type": "code",
        "colab": {}
      },
      "source": [
        "# create predict data\n",
        "predict = df.loc[df.label == 3,['id','grouptext']]\n",
        "predict['nword'] = predict['grouptext'].map(lambda x: len(x.split(' ')))\n"
      ],
      "execution_count": 91,
      "outputs": []
    },
    {
      "cell_type": "code",
      "metadata": {
        "id": "_UlP3nUkbltV",
        "colab_type": "code",
        "colab": {
          "base_uri": "https://localhost:8080/",
          "height": 895
        },
        "outputId": "a65264a0-59f1-40c1-b7e3-334535a690b9"
      },
      "source": [
        "predict"
      ],
      "execution_count": 92,
      "outputs": [
        {
          "output_type": "execute_result",
          "data": {
            "text/html": [
              "<div>\n",
              "<style scoped>\n",
              "    .dataframe tbody tr th:only-of-type {\n",
              "        vertical-align: middle;\n",
              "    }\n",
              "\n",
              "    .dataframe tbody tr th {\n",
              "        vertical-align: top;\n",
              "    }\n",
              "\n",
              "    .dataframe thead th {\n",
              "        text-align: right;\n",
              "    }\n",
              "</style>\n",
              "<table border=\"1\" class=\"dataframe\">\n",
              "  <thead>\n",
              "    <tr style=\"text-align: right;\">\n",
              "      <th></th>\n",
              "      <th>id</th>\n",
              "      <th>grouptext</th>\n",
              "      <th>nword</th>\n",
              "    </tr>\n",
              "  </thead>\n",
              "  <tbody>\n",
              "    <tr>\n",
              "      <th>0</th>\n",
              "      <td>0</td>\n",
              "      <td>lead data curation function geoscience database including data ingestion data cleansing optimisation data extraction data integration lead data analysis data design modelling metadata management data migration data database related activity lead application predictive analytics machine learning visualisation activity support improved business decision making within gsq gsq customer establish lead machine learning project activity within gsq deliver insight quality integrity gsq custodial data actively build analytics machine learning capability key gsq staff build implement data governance process policy ensure gsq custodial data highly accessible well managed provide advice guidance gsq structure optimise data resource support machine learning activity provide high level technical advice assistance internal external stakeholder required directed support geoscience information team participation appropriate conference training workshop seminar well internal external meeting present...</td>\n",
              "      <td>148</td>\n",
              "    </tr>\n",
              "    <tr>\n",
              "      <th>7</th>\n",
              "      <td>5</td>\n",
              "      <td>currently seeking junior data analyst responsible delivering improved customer experience roi providing business improved campaign insight customer data effectiveness ideal candidate responsible limited day day campaign management leveraging advanced analytics prospect data management technical data support stakeholder influence management ideal candidate year experience commercial environment large volume data experience using sa analytical programming tool eg sql teradata oracle sql strong analytical skill background working data analytics environment process improvement skill strong attention detail knowledge microsoft office suit familiar google analytics clear professional phone manner technologically minded ability work team environment problem solving skill initiative attention detail strong written verbal communication skill high attention detail ability work pace multi task interested opportunity apply brady australia part brady corporation usbased international manufactur...</td>\n",
              "      <td>210</td>\n",
              "    </tr>\n",
              "    <tr>\n",
              "      <th>43</th>\n",
              "      <td>20</td>\n",
              "      <td>provide quality analytics insight reporting across initiative within team contribute data analysis across lifecycle initiative enable informed effective decision making manage specific deliverable analytical task related data discovery data quality profiling remediation investigation reporting etc requirement comprehensive experience data discovery quality profiling source target data lineage analysis omnia exposure advanced teradata sql experience experience hadoop experience within financial service preferred good communication skill</td>\n",
              "      <td>63</td>\n",
              "    </tr>\n",
              "    <tr>\n",
              "      <th>49</th>\n",
              "      <td>23</td>\n",
              "      <td>aps contract role month extension must experience data management collection experience dealing people disability would highly regarded</td>\n",
              "      <td>17</td>\n",
              "    </tr>\n",
              "    <tr>\n",
              "      <th>74</th>\n",
              "      <td>37</td>\n",
              "      <td>one australia influential organisation within data science field looking principal data scientist join team company question data centric organisation see data science ai backbone help innovate push forward successful individual able work truly inspirational data science leader exaggerating say team one talented melbourne one role claim data science role end glorified sql analyst position true example genuine data science role building end end ai product working real business problem work role something doesnt come around often key thing point culture organisation pay lip service work life balance really encourage real flexibility supported throughout career given key tool require develop career direction looking ensuring quality life better really making difference clear looking someone want progress career remain tool continue build awesome product lead exciting project rather move handsoff leadership role key responsibility include propose new solution evolve existing one used p...</td>\n",
              "      <td>266</td>\n",
              "    </tr>\n",
              "    <tr>\n",
              "      <th>...</th>\n",
              "      <td>...</td>\n",
              "      <td>...</td>\n",
              "      <td>...</td>\n",
              "    </tr>\n",
              "    <tr>\n",
              "      <th>14463</th>\n",
              "      <td>11653</td>\n",
              "      <td>pythonr java cloud infrastructure sql machine learning big data</td>\n",
              "      <td>9</td>\n",
              "    </tr>\n",
              "    <tr>\n",
              "      <th>14464</th>\n",
              "      <td>11654</td>\n",
              "      <td>financial service background either ib investment management python experience r alteryx power bi exposure bonus strong machine learning experience exposure trade surveillance ideal though exposure trading environment acceptable ability work alongside key stakeholder business area including compliance investigation</td>\n",
              "      <td>38</td>\n",
              "    </tr>\n",
              "    <tr>\n",
              "      <th>14465</th>\n",
              "      <td>11655</td>\n",
              "      <td>key responsibility junior data analyst</td>\n",
              "      <td>5</td>\n",
              "    </tr>\n",
              "    <tr>\n",
              "      <th>14466</th>\n",
              "      <td>11658</td>\n",
              "      <td>salary excellent opportunity growth progression exciting subbrand marketleader supportive inclusive team environment real opportunity autonomous make role ownduties data analyst compile communicate ecommerce marketing data utilising data platform measuring performance full ownership customer segmentation data crm functionality collaboration marketing stakeholder engagement managing reviewing website performance insight crm email performance report medium performance teststhe ideal data analyst minimum year data analyst experience strong experience capability within google analytics ideally experience marketing ecommerce data experience ecommerce platform advanced excel skillslocation milton keynes hour pm advertised zoek efcaaaccbfdda</td>\n",
              "      <td>85</td>\n",
              "    </tr>\n",
              "    <tr>\n",
              "      <th>14470</th>\n",
              "      <td>11662</td>\n",
              "      <td>artificial intelligence award meet causalens predictive ai hedge fund bank tech company yahoo finance uk exciting ai startup race scale forbes auto ml platform draw interest discretionary fund machinebyte allianzgi tap virtual data scientist amid war talent financial time machine learning company watch europe forbes best investment deeptech award uk business angel association award disruptive uk company hotwire causalens appoints hedge fund veteran data leader advisory board newswire core requirement strong academic record meng msci engd phd demonstrated ability discover business potential novel technology advanced quantitative skill machine learningstatisticsmathematics similar field ability apply complex technology novel highvalue usecases excellent written verbal communicator high level business acumen highly capable selfmotivated collaborative personable high integrity drive naturally curious effective problem solver ability effectively work independently fastmoving environment...</td>\n",
              "      <td>272</td>\n",
              "    </tr>\n",
              "  </tbody>\n",
              "</table>\n",
              "<p>1600 rows × 3 columns</p>\n",
              "</div>"
            ],
            "text/plain": [
              "          id  \\\n",
              "0          0   \n",
              "7          5   \n",
              "43        20   \n",
              "49        23   \n",
              "74        37   \n",
              "...      ...   \n",
              "14463  11653   \n",
              "14464  11654   \n",
              "14465  11655   \n",
              "14466  11658   \n",
              "14470  11662   \n",
              "\n",
              "                                                                                                                                                                                                                                                                                                                                                                                                                                                                                                                                                                                                                                                                                                                                                                                                                                                                                                                                                                                                                                     grouptext  \\\n",
              "0      lead data curation function geoscience database including data ingestion data cleansing optimisation data extraction data integration lead data analysis data design modelling metadata management data migration data database related activity lead application predictive analytics machine learning visualisation activity support improved business decision making within gsq gsq customer establish lead machine learning project activity within gsq deliver insight quality integrity gsq custodial data actively build analytics machine learning capability key gsq staff build implement data governance process policy ensure gsq custodial data highly accessible well managed provide advice guidance gsq structure optimise data resource support machine learning activity provide high level technical advice assistance internal external stakeholder required directed support geoscience information team participation appropriate conference training workshop seminar well internal external meeting present...   \n",
              "7      currently seeking junior data analyst responsible delivering improved customer experience roi providing business improved campaign insight customer data effectiveness ideal candidate responsible limited day day campaign management leveraging advanced analytics prospect data management technical data support stakeholder influence management ideal candidate year experience commercial environment large volume data experience using sa analytical programming tool eg sql teradata oracle sql strong analytical skill background working data analytics environment process improvement skill strong attention detail knowledge microsoft office suit familiar google analytics clear professional phone manner technologically minded ability work team environment problem solving skill initiative attention detail strong written verbal communication skill high attention detail ability work pace multi task interested opportunity apply brady australia part brady corporation usbased international manufactur...   \n",
              "43                                                                                                                                                                                                                                                                                                                                                                                                                                                                               provide quality analytics insight reporting across initiative within team contribute data analysis across lifecycle initiative enable informed effective decision making manage specific deliverable analytical task related data discovery data quality profiling remediation investigation reporting etc requirement comprehensive experience data discovery quality profiling source target data lineage analysis omnia exposure advanced teradata sql experience experience hadoop experience within financial service preferred good communication skill   \n",
              "49                                                                                                                                                                                                                                                                                                                                                                                                                                                                                                                                                                                                                                                                                                                                                                                                                                                                                                     aps contract role month extension must experience data management collection experience dealing people disability would highly regarded   \n",
              "74     one australia influential organisation within data science field looking principal data scientist join team company question data centric organisation see data science ai backbone help innovate push forward successful individual able work truly inspirational data science leader exaggerating say team one talented melbourne one role claim data science role end glorified sql analyst position true example genuine data science role building end end ai product working real business problem work role something doesnt come around often key thing point culture organisation pay lip service work life balance really encourage real flexibility supported throughout career given key tool require develop career direction looking ensuring quality life better really making difference clear looking someone want progress career remain tool continue build awesome product lead exciting project rather move handsoff leadership role key responsibility include propose new solution evolve existing one used p...   \n",
              "...                                                                                                                                                                                                                                                                                                                                                                                                                                                                                                                                                                                                                                                                                                                                                                                                                                                                                                                                                                                                                                        ...   \n",
              "14463                                                                                                                                                                                                                                                                                                                                                                                                                                                                                                                                                                                                                                                                                                                                                                                                                                                                                                                                                                          pythonr java cloud infrastructure sql machine learning big data   \n",
              "14464                                                                                                                                                                                                                                                                                                                                                                                                                                                                                                                                                                                                                                                                                                             financial service background either ib investment management python experience r alteryx power bi exposure bonus strong machine learning experience exposure trade surveillance ideal though exposure trading environment acceptable ability work alongside key stakeholder business area including compliance investigation   \n",
              "14465                                                                                                                                                                                                                                                                                                                                                                                                                                                                                                                                                                                                                                                                                                                                                                                                                                                                                                                                                                                                   key responsibility junior data analyst   \n",
              "14466                                                                                                                                                                                                                                                                 salary excellent opportunity growth progression exciting subbrand marketleader supportive inclusive team environment real opportunity autonomous make role ownduties data analyst compile communicate ecommerce marketing data utilising data platform measuring performance full ownership customer segmentation data crm functionality collaboration marketing stakeholder engagement managing reviewing website performance insight crm email performance report medium performance teststhe ideal data analyst minimum year data analyst experience strong experience capability within google analytics ideally experience marketing ecommerce data experience ecommerce platform advanced excel skillslocation milton keynes hour pm advertised zoek efcaaaccbfdda   \n",
              "14470  artificial intelligence award meet causalens predictive ai hedge fund bank tech company yahoo finance uk exciting ai startup race scale forbes auto ml platform draw interest discretionary fund machinebyte allianzgi tap virtual data scientist amid war talent financial time machine learning company watch europe forbes best investment deeptech award uk business angel association award disruptive uk company hotwire causalens appoints hedge fund veteran data leader advisory board newswire core requirement strong academic record meng msci engd phd demonstrated ability discover business potential novel technology advanced quantitative skill machine learningstatisticsmathematics similar field ability apply complex technology novel highvalue usecases excellent written verbal communicator high level business acumen highly capable selfmotivated collaborative personable high integrity drive naturally curious effective problem solver ability effectively work independently fastmoving environment...   \n",
              "\n",
              "       nword  \n",
              "0        148  \n",
              "7        210  \n",
              "43        63  \n",
              "49        17  \n",
              "74       266  \n",
              "...      ...  \n",
              "14463      9  \n",
              "14464     38  \n",
              "14465      5  \n",
              "14466     85  \n",
              "14470    272  \n",
              "\n",
              "[1600 rows x 3 columns]"
            ]
          },
          "metadata": {
            "tags": []
          },
          "execution_count": 92
        }
      ]
    },
    {
      "cell_type": "code",
      "metadata": {
        "id": "WPMCDOC5bpTw",
        "colab_type": "code",
        "colab": {}
      },
      "source": [
        "predict_input = X[predict.index]"
      ],
      "execution_count": 93,
      "outputs": []
    },
    {
      "cell_type": "code",
      "metadata": {
        "id": "y0Ye2aXTVSNL",
        "colab_type": "code",
        "colab": {}
      },
      "source": [
        "predict_nboutput = nb_model.predict(predict_input)\n",
        "predict_lgoutput = lg_model.predict(predict_input)"
      ],
      "execution_count": 94,
      "outputs": []
    },
    {
      "cell_type": "code",
      "metadata": {
        "id": "0PIQHEHOWowq",
        "colab_type": "code",
        "colab": {
          "base_uri": "https://localhost:8080/",
          "height": 34
        },
        "outputId": "4d864e67-84bc-44c6-d8be-af28d27cbe52"
      },
      "source": [
        "predict_input.shape"
      ],
      "execution_count": 95,
      "outputs": [
        {
          "output_type": "execute_result",
          "data": {
            "text/plain": [
              "(1600, 505)"
            ]
          },
          "metadata": {
            "tags": []
          },
          "execution_count": 95
        }
      ]
    },
    {
      "cell_type": "code",
      "metadata": {
        "id": "LbuG3LlFW00l",
        "colab_type": "code",
        "colab": {}
      },
      "source": [
        "predict['label_lg'] = predict_lgoutput\n",
        "predict['label_nb'] = predict_nboutput"
      ],
      "execution_count": 96,
      "outputs": []
    },
    {
      "cell_type": "code",
      "metadata": {
        "id": "vUBTsN7PYN4k",
        "colab_type": "code",
        "colab": {}
      },
      "source": [
        "predict.to_csv('predict.csv')"
      ],
      "execution_count": 97,
      "outputs": []
    }
  ]
}